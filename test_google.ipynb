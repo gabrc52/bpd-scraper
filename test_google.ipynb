{
 "cells": [
  {
   "attachments": {},
   "cell_type": "markdown",
   "metadata": {},
   "source": [
    "Google offers geocoding too"
   ]
  },
  {
   "cell_type": "code",
   "execution_count": 3,
   "metadata": {},
   "outputs": [],
   "source": [
    "import googlemaps\n",
    "import dotenv\n",
    "import os\n",
    "dotenv.load_dotenv()\n",
    "KEY = os.getenv('GOOGLE')\n",
    "gmaps = googlemaps.Client(key=KEY)"
   ]
  },
  {
   "attachments": {},
   "cell_type": "markdown",
   "metadata": {},
   "source": [
    "Default demo:"
   ]
  },
  {
   "cell_type": "code",
   "execution_count": 4,
   "metadata": {},
   "outputs": [],
   "source": [
    "# Geocoding an address\n",
    "geocode_result = gmaps.geocode('Albany St & Massachusetts Ave, Roxbury, MA 02118')"
   ]
  },
  {
   "cell_type": "code",
   "execution_count": 5,
   "metadata": {},
   "outputs": [
    {
     "name": "stdout",
     "output_type": "stream",
     "text": [
      "[\n",
      " {\n",
      "  \"address_components\": [\n",
      "   {\n",
      "    \"long_name\": \"Massachusetts Avenue & Albany Street\",\n",
      "    \"short_name\": \"Massachusetts Ave & Albany St\",\n",
      "    \"types\": [\n",
      "     \"intersection\"\n",
      "    ]\n",
      "   },\n",
      "   {\n",
      "    \"long_name\": \"Roxbury\",\n",
      "    \"short_name\": \"Roxbury\",\n",
      "    \"types\": [\n",
      "     \"neighborhood\",\n",
      "     \"political\"\n",
      "    ]\n",
      "   },\n",
      "   {\n",
      "    \"long_name\": \"Boston\",\n",
      "    \"short_name\": \"Boston\",\n",
      "    \"types\": [\n",
      "     \"locality\",\n",
      "     \"political\"\n",
      "    ]\n",
      "   },\n",
      "   {\n",
      "    \"long_name\": \"Suffolk County\",\n",
      "    \"short_name\": \"Suffolk County\",\n",
      "    \"types\": [\n",
      "     \"administrative_area_level_2\",\n",
      "     \"political\"\n",
      "    ]\n",
      "   },\n",
      "   {\n",
      "    \"long_name\": \"Massachusetts\",\n",
      "    \"short_name\": \"MA\",\n",
      "    \"types\": [\n",
      "     \"administrative_area_level_1\",\n",
      "     \"political\"\n",
      "    ]\n",
      "   },\n",
      "   {\n",
      "    \"long_name\": \"United States\",\n",
      "    \"short_name\": \"US\",\n",
      "    \"types\": [\n",
      "     \"country\",\n",
      "     \"political\"\n",
      "    ]\n",
      "   },\n",
      "   {\n",
      "    \"long_name\": \"02119\",\n",
      "    \"short_name\": \"02119\",\n",
      "    \"types\": [\n",
      "     \"postal_code\"\n",
      "    ]\n",
      "   }\n",
      "  ],\n",
      "  \"formatted_address\": \"Massachusetts Ave & Albany St, Boston, MA 02119, USA\",\n",
      "  \"geometry\": {\n",
      "   \"location\": {\n",
      "    \"lat\": 42.3335024,\n",
      "    \"lng\": -71.0734049\n",
      "   },\n",
      "   \"location_type\": \"GEOMETRIC_CENTER\",\n",
      "   \"viewport\": {\n",
      "    \"northeast\": {\n",
      "     \"lat\": 42.3348513802915,\n",
      "     \"lng\": -71.07205591970849\n",
      "    },\n",
      "    \"southwest\": {\n",
      "     \"lat\": 42.3321534197085,\n",
      "     \"lng\": -71.07475388029151\n",
      "    }\n",
      "   }\n",
      "  },\n",
      "  \"place_id\": \"EjRNYXNzYWNodXNldHRzIEF2ZSAmIEFsYmFueSBTdCwgQm9zdG9uLCBNQSAwMjExOSwgVVNBImYiZAoUChIJH-3Ff0B644kRySzDJAOf4DISFAoSCR_txX9AeuOJEckswyQDn-AyGhQKEglnoV6klnfjiREo-w-nkf8CsRoUChIJNwQsq2t644kRV3rrPpQt3OkiCg1wlDsZFR8Po9U\",\n",
      "  \"types\": [\n",
      "   \"intersection\"\n",
      "  ]\n",
      " }\n",
      "]\n"
     ]
    }
   ],
   "source": [
    "import json\n",
    "print(json.dumps(geocode_result, indent=True))"
   ]
  },
  {
   "attachments": {},
   "cell_type": "markdown",
   "metadata": {},
   "source": [
    "We can have the same results"
   ]
  },
  {
   "cell_type": "code",
   "execution_count": 7,
   "metadata": {},
   "outputs": [
    {
     "data": {
      "text/plain": [
       "(42.3335024, -71.0734049)"
      ]
     },
     "execution_count": 7,
     "metadata": {},
     "output_type": "execute_result"
    }
   ],
   "source": [
    "result = geocode_result[0]\n",
    "(result['geometry']['location']['lat'], result['geometry']['location']['lng'])"
   ]
  },
  {
   "cell_type": "code",
   "execution_count": 8,
   "metadata": {},
   "outputs": [
    {
     "data": {
      "text/plain": [
       "'Massachusetts Ave & Albany St, Boston, MA 02119, USA'"
      ]
     },
     "execution_count": 8,
     "metadata": {},
     "output_type": "execute_result"
    }
   ],
   "source": [
    "result['formatted_address']"
   ]
  },
  {
   "attachments": {},
   "cell_type": "markdown",
   "metadata": {},
   "source": [
    "There is no confidence. Google knows everything, so it doesn't need to be confident or not."
   ]
  }
 ],
 "metadata": {
  "kernelspec": {
   "display_name": "Python 3",
   "language": "python",
   "name": "python3"
  },
  "language_info": {
   "codemirror_mode": {
    "name": "ipython",
    "version": 3
   },
   "file_extension": ".py",
   "mimetype": "text/x-python",
   "name": "python",
   "nbconvert_exporter": "python",
   "pygments_lexer": "ipython3",
   "version": "3.11.3"
  },
  "orig_nbformat": 4
 },
 "nbformat": 4,
 "nbformat_minor": 2
}
